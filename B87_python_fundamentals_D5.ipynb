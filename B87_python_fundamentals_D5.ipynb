{
 "cells": [
  {
   "cell_type": "code",
   "execution_count": 2,
   "id": "75d3ccee-de75-46fe-a7ba-66456c8be6c2",
   "metadata": {},
   "outputs": [],
   "source": [
    "#introduction to Dictionary:\n",
    "#Defination: A dictionary is a combination of key & Value pairs\n",
    "#Classification: it is classified as a mutable data type\n"
   ]
  },
  {
   "cell_type": "code",
   "execution_count": 3,
   "id": "cae4e240-36ef-4d62-9ea9-4041765909ad",
   "metadata": {},
   "outputs": [],
   "source": [
    "#how to define the dictionary : {} \n"
   ]
  },
  {
   "cell_type": "code",
   "execution_count": 4,
   "id": "88ff6d5f-a4b5-466c-ad79-8d40d490d2f2",
   "metadata": {},
   "outputs": [],
   "source": [
    "#req: i want to desine a alien game:"
   ]
  },
  {
   "cell_type": "code",
   "execution_count": 5,
   "id": "49dac87d-4a84-40fb-b0d9-57852671c211",
   "metadata": {},
   "outputs": [],
   "source": [
    "alien = {'color':'green','points':'5'}"
   ]
  },
  {
   "cell_type": "code",
   "execution_count": 6,
   "id": "5bafe771-4611-4ee4-9111-317c088ac82d",
   "metadata": {},
   "outputs": [
    {
     "name": "stdout",
     "output_type": "stream",
     "text": [
      "{'color': 'green', 'points': '5'}\n"
     ]
    }
   ],
   "source": [
    "print(alien)"
   ]
  },
  {
   "cell_type": "code",
   "execution_count": 7,
   "id": "08d7fa85-2d1d-46c1-ab27-90e19e2bf4e5",
   "metadata": {},
   "outputs": [
    {
     "data": {
      "text/plain": [
       "dict"
      ]
     },
     "execution_count": 7,
     "metadata": {},
     "output_type": "execute_result"
    }
   ],
   "source": [
    "type(alien)"
   ]
  },
  {
   "cell_type": "code",
   "execution_count": 8,
   "id": "973ba992-c26e-4387-bb05-aa3e69d70d47",
   "metadata": {},
   "outputs": [],
   "source": [
    "#req : i wnat to add the start_position of the alien"
   ]
  },
  {
   "cell_type": "code",
   "execution_count": 9,
   "id": "2332d048-a09d-40e8-9d5d-fd376850a9e7",
   "metadata": {},
   "outputs": [],
   "source": [
    "alien['start_position'] = 'Level1'"
   ]
  },
  {
   "cell_type": "code",
   "execution_count": 11,
   "id": "c546b911-0bd9-401e-a592-05e5bbb68de1",
   "metadata": {},
   "outputs": [
    {
     "name": "stdout",
     "output_type": "stream",
     "text": [
      "{'color': 'green', 'points': '5', 'start_position': 'Level1'}\n"
     ]
    }
   ],
   "source": [
    "print(alien)"
   ]
  },
  {
   "cell_type": "code",
   "execution_count": null,
   "id": "c446d8b3-c6ca-4680-974b-cf621c5e0d40",
   "metadata": {},
   "outputs": [],
   "source": [
    "\n"
   ]
  },
  {
   "cell_type": "code",
   "execution_count": 12,
   "id": "3f2558f6-2342-485b-8240-4cd446121b7f",
   "metadata": {},
   "outputs": [],
   "source": [
    "#note : In the dictionary key will be acting as indexes"
   ]
  },
  {
   "cell_type": "code",
   "execution_count": 13,
   "id": "6ede1baf-2845-476d-811f-de3942155547",
   "metadata": {},
   "outputs": [],
   "source": [
    "#req: i want to konw the color of the alien ?"
   ]
  },
  {
   "cell_type": "code",
   "execution_count": 15,
   "id": "63cfb33a-d36e-424c-9735-db72d31ea42b",
   "metadata": {},
   "outputs": [
    {
     "name": "stdout",
     "output_type": "stream",
     "text": [
      "green\n"
     ]
    }
   ],
   "source": [
    "print(alien['color'])"
   ]
  },
  {
   "cell_type": "code",
   "execution_count": null,
   "id": "99fe2ec8-037a-49f1-ae74-7ca592660cad",
   "metadata": {},
   "outputs": [],
   "source": []
  },
  {
   "cell_type": "code",
   "execution_count": 16,
   "id": "3b1d64d2-9af3-4a26-a6db-8c2ca375fa33",
   "metadata": {},
   "outputs": [],
   "source": [
    "#req: How to modify the key value pairs in the dictionary"
   ]
  },
  {
   "cell_type": "code",
   "execution_count": 17,
   "id": "1b8c7077-8097-41be-81c3-4d134e746ed4",
   "metadata": {},
   "outputs": [],
   "source": [
    "#req: I want to modify the color of the alien GREEN to RED"
   ]
  },
  {
   "cell_type": "code",
   "execution_count": 18,
   "id": "06c1193b-39e3-449b-a045-11774a222dbc",
   "metadata": {},
   "outputs": [],
   "source": [
    "alien['color'] = 'red'"
   ]
  },
  {
   "cell_type": "code",
   "execution_count": 19,
   "id": "7470f7d1-afe8-4d80-8c26-d6f3f78e14c6",
   "metadata": {},
   "outputs": [
    {
     "name": "stdout",
     "output_type": "stream",
     "text": [
      "{'color': 'red', 'points': '5', 'start_position': 'Level1'}\n"
     ]
    }
   ],
   "source": [
    "print(alien)"
   ]
  },
  {
   "cell_type": "code",
   "execution_count": 20,
   "id": "76a538d2-b391-4acc-b2c3-cdcdc97ea718",
   "metadata": {},
   "outputs": [],
   "source": [
    "# i want you to create the facebook user account"
   ]
  },
  {
   "cell_type": "code",
   "execution_count": 28,
   "id": "ea1901da-b8f6-4495-bfd0-19845e9bebb2",
   "metadata": {},
   "outputs": [],
   "source": [
    "user_account = {'firstname':'code','lastname':\"training\",'username':'codetrainingacadamy','dob':'01-01-2020','pwd':'54321'}"
   ]
  },
  {
   "cell_type": "code",
   "execution_count": 29,
   "id": "bd621369-d70c-499d-ad4a-111df0537b39",
   "metadata": {},
   "outputs": [
    {
     "name": "stdout",
     "output_type": "stream",
     "text": [
      "{'firstname': 'code', 'lastname': 'training', 'username': 'codetrainingacadamy', 'dob': '01-01-2020', 'pwd': '54321'}\n"
     ]
    }
   ],
   "source": [
    "print(user_account)"
   ]
  },
  {
   "cell_type": "code",
   "execution_count": null,
   "id": "6c3b3f05-cb64-47e7-835a-c48356e0c72c",
   "metadata": {},
   "outputs": [],
   "source": []
  },
  {
   "cell_type": "code",
   "execution_count": 30,
   "id": "f8f176e4-2d6a-4237-b9d1-20a588bc360c",
   "metadata": {},
   "outputs": [],
   "source": [
    "#how to delete the key value pairs"
   ]
  },
  {
   "cell_type": "raw",
   "id": "9c94976b-9ab7-460a-a35a-58ad07a7b813",
   "metadata": {},
   "source": []
  },
  {
   "cell_type": "code",
   "execution_count": 31,
   "id": "7744a15e-102a-494c-8ca8-f357d4117a32",
   "metadata": {},
   "outputs": [],
   "source": [
    "#req:  i want to delete the lastname"
   ]
  },
  {
   "cell_type": "code",
   "execution_count": 32,
   "id": "5c8ac37e-4180-41f2-b362-1df39a384f1f",
   "metadata": {},
   "outputs": [],
   "source": [
    "del user_account['lastname']"
   ]
  },
  {
   "cell_type": "code",
   "execution_count": 33,
   "id": "1f14fe36-7a3d-434d-b56a-7643e1ac878d",
   "metadata": {},
   "outputs": [
    {
     "name": "stdout",
     "output_type": "stream",
     "text": [
      "{'firstname': 'code', 'username': 'codetrainingacadamy', 'dob': '01-01-2020', 'pwd': '54321'}\n"
     ]
    }
   ],
   "source": [
    "print(user_account)"
   ]
  },
  {
   "cell_type": "code",
   "execution_count": null,
   "id": "95978849-4c61-4e92-b9ff-4bc22f5dcb56",
   "metadata": {},
   "outputs": [],
   "source": []
  },
  {
   "cell_type": "code",
   "execution_count": 34,
   "id": "f066c8e9-be86-437d-8529-36911dcdafd4",
   "metadata": {},
   "outputs": [],
   "source": [
    "#INTODUCTION to LOOPing statment"
   ]
  },
  {
   "cell_type": "code",
   "execution_count": 36,
   "id": "4971d2a3-2b3e-457d-8577-9a141584ee84",
   "metadata": {},
   "outputs": [],
   "source": [
    "students = ['durga','dinesh','kavya','noor','raza','abid','joseph']"
   ]
  },
  {
   "cell_type": "code",
   "execution_count": 37,
   "id": "0143c6be-050d-4971-9a80-289c06a7a23f",
   "metadata": {},
   "outputs": [
    {
     "name": "stdout",
     "output_type": "stream",
     "text": [
      "['durga', 'dinesh', 'kavya', 'noor', 'raza', 'abid', 'joseph']\n"
     ]
    }
   ],
   "source": [
    "print(students)"
   ]
  },
  {
   "cell_type": "code",
   "execution_count": 38,
   "id": "dc932214-9c96-49f2-a629-3c82d2029f7d",
   "metadata": {},
   "outputs": [
    {
     "name": "stdout",
     "output_type": "stream",
     "text": [
      "keep up the good work,Durga\n"
     ]
    }
   ],
   "source": [
    "print(f\"keep up the good work,{students[0].title()}\")"
   ]
  },
  {
   "cell_type": "code",
   "execution_count": 39,
   "id": "103fc40e-a535-40a0-8820-3030e460322c",
   "metadata": {},
   "outputs": [
    {
     "name": "stdout",
     "output_type": "stream",
     "text": [
      "keep up the good work, Dinesh\n"
     ]
    }
   ],
   "source": [
    "print(f\"keep up the good work, {students[1].title()}\")"
   ]
  },
  {
   "cell_type": "code",
   "execution_count": 40,
   "id": "05d44dd2-21a1-4c0c-9e5e-7db56d3d6797",
   "metadata": {},
   "outputs": [],
   "source": [
    "#instread of using each idexes we can assing this to a single varable (not need to work for each index)"
   ]
  },
  {
   "cell_type": "code",
   "execution_count": 45,
   "id": "d18dde0f-f68d-4669-a08f-3f8a021f79ef",
   "metadata": {},
   "outputs": [],
   "source": [
    "#FOR Loop\n",
    "#syntax: for tempvar in mainvar:"
   ]
  },
  {
   "cell_type": "code",
   "execution_count": 46,
   "id": "f1d38ff5-e132-4356-ae5e-440c84be3913",
   "metadata": {},
   "outputs": [
    {
     "name": "stdout",
     "output_type": "stream",
     "text": [
      "keep up the good work!,Durga\n",
      "keep up the good work!,Dinesh\n",
      "keep up the good work!,Kavya\n",
      "keep up the good work!,Noor\n",
      "keep up the good work!,Raza\n",
      "keep up the good work!,Abid\n",
      "keep up the good work!,Joseph\n"
     ]
    }
   ],
   "source": [
    "for x in students:\n",
    "    print(f\"keep up the good work!,{x.title()}\")"
   ]
  },
  {
   "cell_type": "code",
   "execution_count": null,
   "id": "b87e9eed-b2df-4193-8343-9845a55e78d3",
   "metadata": {},
   "outputs": [],
   "source": []
  },
  {
   "cell_type": "code",
   "execution_count": 47,
   "id": "a0c9e82b-2504-4bd1-84b8-534ea33345be",
   "metadata": {},
   "outputs": [
    {
     "name": "stdout",
     "output_type": "stream",
     "text": [
      "durga\n",
      "dinesh\n",
      "kavya\n",
      "noor\n",
      "raza\n",
      "abid\n",
      "joseph\n"
     ]
    }
   ],
   "source": [
    "for a in students:\n",
    "    print(a)"
   ]
  },
  {
   "cell_type": "code",
   "execution_count": 48,
   "id": "8460b385-2ca1-41c2-af3d-0fb42477fb2a",
   "metadata": {},
   "outputs": [],
   "source": [
    "students = ['durga','dinesh','kavya','noor','raza','abid','joseph']"
   ]
  },
  {
   "cell_type": "code",
   "execution_count": 52,
   "id": "a02a3c62-df64-4a17-8469-52c37d1e6a87",
   "metadata": {},
   "outputs": [
    {
     "name": "stdout",
     "output_type": "stream",
     "text": [
      "we are using for loop here,Durga\n",
      "we are using for loop here,Dinesh\n",
      "we are using for loop here,Kavya\n",
      "we are using for loop here,Noor\n",
      "we are using for loop here,Raza\n",
      "we are using for loop here,Abid\n",
      "we are using for loop here,Joseph\n"
     ]
    }
   ],
   "source": [
    "for y in students:\n",
    "    print(f\"we are using for loop here,{y.title()}\")"
   ]
  },
  {
   "cell_type": "code",
   "execution_count": null,
   "id": "71a80dbc-4cc0-4fa5-a246-28720cd6d960",
   "metadata": {},
   "outputs": [],
   "source": []
  },
  {
   "cell_type": "code",
   "execution_count": null,
   "id": "4acdb356-5bbb-40d4-9a6a-e4bacac44896",
   "metadata": {},
   "outputs": [],
   "source": []
  },
  {
   "cell_type": "code",
   "execution_count": null,
   "id": "4f0cadd6-a915-4635-be7e-ae1ad394d2c3",
   "metadata": {},
   "outputs": [],
   "source": []
  },
  {
   "cell_type": "code",
   "execution_count": null,
   "id": "2287607b-14ec-4ff2-90fc-727f2196e005",
   "metadata": {},
   "outputs": [],
   "source": []
  },
  {
   "cell_type": "code",
   "execution_count": null,
   "id": "de38cabe-034f-455a-9816-118b228ab04c",
   "metadata": {},
   "outputs": [],
   "source": []
  },
  {
   "cell_type": "code",
   "execution_count": null,
   "id": "2afb3d77-8664-4f62-a7f5-82747582c797",
   "metadata": {},
   "outputs": [],
   "source": []
  },
  {
   "cell_type": "code",
   "execution_count": null,
   "id": "240490e0-bfca-4e69-ac01-d27dcec6d749",
   "metadata": {},
   "outputs": [],
   "source": []
  },
  {
   "cell_type": "code",
   "execution_count": null,
   "id": "872c912c-877d-41e2-ab96-eba8e00b6908",
   "metadata": {},
   "outputs": [],
   "source": []
  }
 ],
 "metadata": {
  "kernelspec": {
   "display_name": "Python 3 (ipykernel)",
   "language": "python",
   "name": "python3"
  },
  "language_info": {
   "codemirror_mode": {
    "name": "ipython",
    "version": 3
   },
   "file_extension": ".py",
   "mimetype": "text/x-python",
   "name": "python",
   "nbconvert_exporter": "python",
   "pygments_lexer": "ipython3",
   "version": "3.13.5"
  }
 },
 "nbformat": 4,
 "nbformat_minor": 5
}
